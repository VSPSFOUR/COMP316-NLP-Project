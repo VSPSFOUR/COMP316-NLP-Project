{
  "nbformat": 4,
  "nbformat_minor": 0,
  "metadata": {
    "colab": {
      "provenance": [],
      "mount_file_id": "1-gb4hTeEhv5YJR7aPMRO9cwuRn5v0aiA",
      "authorship_tag": "ABX9TyObUjE8z8X0mleVNfaFWM/d",
      "include_colab_link": true
    },
    "kernelspec": {
      "name": "python3",
      "display_name": "Python 3"
    },
    "language_info": {
      "name": "python"
    }
  },
  "cells": [
    {
      "cell_type": "markdown",
      "metadata": {
        "id": "view-in-github",
        "colab_type": "text"
      },
      "source": [
        "<a href=\"https://colab.research.google.com/github/VSPSFOUR/COMP316-NLP-Project/blob/NER-Model/NER_Model_Evaluation.ipynb\" target=\"_parent\"><img src=\"https://colab.research.google.com/assets/colab-badge.svg\" alt=\"Open In Colab\"/></a>"
      ]
    },
    {
      "cell_type": "code",
      "execution_count": null,
      "metadata": {
        "id": "H_g3WLe-4Hhd"
      },
      "outputs": [],
      "source": [
        "# get all annotations and text file\n",
        "import re\n",
        "def get_annotations(ann_file_path : str , txt_file_path:str, tag_names:list):\n",
        "  \"\"\"\n",
        "  return format : [text_file_content, (entity_label, start, end, term), ... (entity_label, start, end, term)]\n",
        "  \"\"\"\n",
        "  # Get all file contents\n",
        "  ann_fhand = open(ann_file_path, \"r\")\n",
        "  text_fhand = open(txt_file_path, \"r\")\n",
        "\n",
        "  ann_file_content = ann_fhand.read()\n",
        "  text_file_content = text_fhand.read();\n",
        "\n",
        "  ann_fhand.close()\n",
        "  text_fhand.close()\n",
        "\n",
        "  annotation_group = [text_file_content]\n",
        "\n",
        "  # Extracting the lines that include desired labels/enities\n",
        "  regex = r'^T.*(?:' + '|'.join(tag_names) + r').*$'\n",
        "  all_valid = re.findall(regex , ann_file_content , flags = re.MULTILINE)\n",
        "\n",
        "  # Processing into Annottaions\n",
        "  for valid_line in all_valid:\n",
        "    line_components = valid_line.split()\n",
        "    entity_type,start_index, end_index , *term = line_components[1:]\n",
        "    entity_type = entity_type.upper()\n",
        "    term = \" \".join(term)\n",
        "    if(not(start_index.isdigit() and end_index.isdigit())):\n",
        "      continue\n",
        "    start_index = int(start_index)\n",
        "    end_index = int(end_index)\n",
        "    entity_type = entity_type.strip()\n",
        "    annotation = (entity_type, start_index,end_index, term)\n",
        "\n",
        "    # Add formed annotation to annotation group\n",
        "    annotation_group.append(annotation)\n",
        "\n",
        "  return annotation_group\n"
      ]
    },
    {
      "cell_type": "code",
      "source": [
        "# transform to dict format for entites\n",
        "def transform_to_dict_format(annotation_group):\n",
        "  entities = annotation_group[1:]\n",
        "\n",
        "  main_dict = {}\n",
        "  for entity in entities:\n",
        "    entity_type, start_index, end_index, term = entity\n",
        "    if(entity_type not in main_dict):\n",
        "      main_dict[entity_type] = {};\n",
        "    main_dict[entity_type][term] = main_dict[entity_type].get(term,0) +1\n",
        "  return [annotation_group[0], main_dict]"
      ],
      "metadata": {
        "id": "BFsXk6n568-n"
      },
      "execution_count": null,
      "outputs": []
    },
    {
      "cell_type": "code",
      "source": [
        "text_path = \"/content/drive/MyDrive/MACCROBAT2018/15939911.ann\"\n",
        "ann_path = \"/content/drive/MyDrive/MACCROBAT2018/15939911.ann\"\n",
        "tag_names = [\"Sign_symptom\" , \"Diagnostic_procedure\", \"Biological_structure\", \"Disease_disorder\",\"Medication\"]\n",
        "\n"
      ],
      "metadata": {
        "id": "KFgkxM2b8WRr"
      },
      "execution_count": null,
      "outputs": []
    },
    {
      "cell_type": "code",
      "source": [
        "ann_group = get_annotations(ann_file_path=ann_path, txt_file_path=text_path, tag_names=tag_names)"
      ],
      "metadata": {
        "id": "YJ8J9is_8qJK"
      },
      "execution_count": null,
      "outputs": []
    },
    {
      "cell_type": "code",
      "source": [
        "print(transform_to_dict_format(ann_group)[1])"
      ],
      "metadata": {
        "colab": {
          "base_uri": "https://localhost:8080/"
        },
        "id": "2qnptliM9FGf",
        "outputId": "dbc582c9-d166-4061-b38e-fd0c78de9faf"
      },
      "execution_count": null,
      "outputs": [
        {
          "output_type": "stream",
          "name": "stdout",
          "text": [
            "{'SIGN_SYMPTOM': {'healthy': 1, 'palpitations': 2, 'dyspnea': 1, 'regurgitation murmur': 1, 'Wolff– Parkinson– White pre-excitation pattern': 1, 'apical displacement': 1, 'elongated': 1, 'rudimentary': 1, 'right-to-left shunting': 1, 'bubbles': 1}, 'BIOLOGICAL_STRUCTURE': {'tricuspid': 1, 'left sternal border': 1, 'Transthoracic': 1, 'tricuspid valve': 1, 'right ventricle': 3, 'right atrium': 1, 'inlet': 1, 'anterior tricuspid valve leaflet': 1, 'septal leaflet': 1, 'left atrium': 1, 'accessory pathway': 1}, 'DIAGNOSTIC_PROCEDURE': {'physical examination': 1, 'electrocardiogram': 1, 'ECG': 2, 'sinus rhythm': 1, 'echocardiography': 2, 'electrophysiologic study': 1, 'mapping': 1, 'PR interval': 1, 'QRS complex': 1}, 'DISEASE_DISORDER': {'accessory pathway': 1, \"Ebstein's anomaly\": 1, 'atrialized': 2, 'patent foramen ovale': 1, 'abnormal impulse conduction': 1}}\n"
          ]
        }
      ]
    },
    {
      "cell_type": "code",
      "source": [
        "ner_model_path =\"/content/drive/MyDrive/ner_model\"\n",
        "import spacy\n"
      ],
      "metadata": {
        "id": "L3pe4xmt9R2_"
      },
      "execution_count": null,
      "outputs": []
    },
    {
      "cell_type": "code",
      "source": [
        "my_model = spacy.load(ner_model_path)"
      ],
      "metadata": {
        "id": "gWMzUC2C-Hex"
      },
      "execution_count": null,
      "outputs": []
    },
    {
      "cell_type": "code",
      "source": [
        "#  actual playing\n",
        "# txt = \"A patient came in with severe headaches and nausea. The doctor recommended an MRI scan to diagnose the cause. The MRI revealed a tumor in the brain. The patient was prescribed medication for pain relief and scheduled for surgery to remove the tumor. The surgical procedure went well, and the patient is now recovering in the hospital.\"\n",
        "txt = \"The patient presented with a persistent cough and shortness of breath. The doctor ordered a chest X-ray to check for any lung abnormalities. The X-ray showed signs of pneumonia. The patient was prescribed antibiotics to treat the infection. After a week of medication, the symptoms improved significantly.\"\n",
        "doc = my_model(txt)\n",
        "\n",
        "for ent in doc.ents:\n",
        "    print(ent.text, ent.label_)"
      ],
      "metadata": {
        "colab": {
          "base_uri": "https://localhost:8080/"
        },
        "id": "dXh3k9pk-JjL",
        "outputId": "1f440480-0037-44c9-b3c4-f682ac8f6ef0"
      },
      "execution_count": null,
      "outputs": [
        {
          "output_type": "stream",
          "name": "stdout",
          "text": [
            "cough SIGN_SYMPTOM\n",
            "shortness of breath SIGN_SYMPTOM\n",
            "chest BIOLOGICAL_STRUCTURE\n",
            "X-ray DIAGNOSTIC_PROCEDURE\n",
            "lung BIOLOGICAL_STRUCTURE\n",
            "abnormalities SIGN_SYMPTOM\n",
            "X-ray DIAGNOSTIC_PROCEDURE\n",
            "pneumonia DISEASE_DISORDER\n",
            "antibiotics MEDICATION\n",
            "medication MEDICATION\n",
            "symptoms SIGN_SYMPTOM\n"
          ]
        }
      ]
    },
    {
      "cell_type": "code",
      "source": [
        "spacy.displacy.render(doc, style=\"ent\", jupyter=True)"
      ],
      "metadata": {
        "colab": {
          "base_uri": "https://localhost:8080/",
          "height": 122
        },
        "id": "vfAHws9G-L2W",
        "outputId": "6bf3e31d-f9dd-4680-b40a-6c34a3ac25bf"
      },
      "execution_count": null,
      "outputs": [
        {
          "output_type": "display_data",
          "data": {
            "text/plain": [
              "<IPython.core.display.HTML object>"
            ],
            "text/html": [
              "<span class=\"tex2jax_ignore\"><div class=\"entities\" style=\"line-height: 2.5; direction: ltr\">The patient presented with a persistent \n",
              "<mark class=\"entity\" style=\"background: #ddd; padding: 0.45em 0.6em; margin: 0 0.25em; line-height: 1; border-radius: 0.35em;\">\n",
              "    cough\n",
              "    <span style=\"font-size: 0.8em; font-weight: bold; line-height: 1; border-radius: 0.35em; vertical-align: middle; margin-left: 0.5rem\">SIGN_SYMPTOM</span>\n",
              "</mark>\n",
              " and \n",
              "<mark class=\"entity\" style=\"background: #ddd; padding: 0.45em 0.6em; margin: 0 0.25em; line-height: 1; border-radius: 0.35em;\">\n",
              "    shortness of breath\n",
              "    <span style=\"font-size: 0.8em; font-weight: bold; line-height: 1; border-radius: 0.35em; vertical-align: middle; margin-left: 0.5rem\">SIGN_SYMPTOM</span>\n",
              "</mark>\n",
              ". The doctor ordered a \n",
              "<mark class=\"entity\" style=\"background: #ddd; padding: 0.45em 0.6em; margin: 0 0.25em; line-height: 1; border-radius: 0.35em;\">\n",
              "    chest\n",
              "    <span style=\"font-size: 0.8em; font-weight: bold; line-height: 1; border-radius: 0.35em; vertical-align: middle; margin-left: 0.5rem\">BIOLOGICAL_STRUCTURE</span>\n",
              "</mark>\n",
              " \n",
              "<mark class=\"entity\" style=\"background: #ddd; padding: 0.45em 0.6em; margin: 0 0.25em; line-height: 1; border-radius: 0.35em;\">\n",
              "    X-ray\n",
              "    <span style=\"font-size: 0.8em; font-weight: bold; line-height: 1; border-radius: 0.35em; vertical-align: middle; margin-left: 0.5rem\">DIAGNOSTIC_PROCEDURE</span>\n",
              "</mark>\n",
              " to check for any \n",
              "<mark class=\"entity\" style=\"background: #ddd; padding: 0.45em 0.6em; margin: 0 0.25em; line-height: 1; border-radius: 0.35em;\">\n",
              "    lung\n",
              "    <span style=\"font-size: 0.8em; font-weight: bold; line-height: 1; border-radius: 0.35em; vertical-align: middle; margin-left: 0.5rem\">BIOLOGICAL_STRUCTURE</span>\n",
              "</mark>\n",
              " \n",
              "<mark class=\"entity\" style=\"background: #ddd; padding: 0.45em 0.6em; margin: 0 0.25em; line-height: 1; border-radius: 0.35em;\">\n",
              "    abnormalities\n",
              "    <span style=\"font-size: 0.8em; font-weight: bold; line-height: 1; border-radius: 0.35em; vertical-align: middle; margin-left: 0.5rem\">SIGN_SYMPTOM</span>\n",
              "</mark>\n",
              ". The \n",
              "<mark class=\"entity\" style=\"background: #ddd; padding: 0.45em 0.6em; margin: 0 0.25em; line-height: 1; border-radius: 0.35em;\">\n",
              "    X-ray\n",
              "    <span style=\"font-size: 0.8em; font-weight: bold; line-height: 1; border-radius: 0.35em; vertical-align: middle; margin-left: 0.5rem\">DIAGNOSTIC_PROCEDURE</span>\n",
              "</mark>\n",
              " showed signs of \n",
              "<mark class=\"entity\" style=\"background: #ddd; padding: 0.45em 0.6em; margin: 0 0.25em; line-height: 1; border-radius: 0.35em;\">\n",
              "    pneumonia\n",
              "    <span style=\"font-size: 0.8em; font-weight: bold; line-height: 1; border-radius: 0.35em; vertical-align: middle; margin-left: 0.5rem\">DISEASE_DISORDER</span>\n",
              "</mark>\n",
              ". The patient was prescribed \n",
              "<mark class=\"entity\" style=\"background: #ddd; padding: 0.45em 0.6em; margin: 0 0.25em; line-height: 1; border-radius: 0.35em;\">\n",
              "    antibiotics\n",
              "    <span style=\"font-size: 0.8em; font-weight: bold; line-height: 1; border-radius: 0.35em; vertical-align: middle; margin-left: 0.5rem\">MEDICATION</span>\n",
              "</mark>\n",
              " to treat the infection. After a week of \n",
              "<mark class=\"entity\" style=\"background: #ddd; padding: 0.45em 0.6em; margin: 0 0.25em; line-height: 1; border-radius: 0.35em;\">\n",
              "    medication\n",
              "    <span style=\"font-size: 0.8em; font-weight: bold; line-height: 1; border-radius: 0.35em; vertical-align: middle; margin-left: 0.5rem\">MEDICATION</span>\n",
              "</mark>\n",
              ", the \n",
              "<mark class=\"entity\" style=\"background: #ddd; padding: 0.45em 0.6em; margin: 0 0.25em; line-height: 1; border-radius: 0.35em;\">\n",
              "    symptoms\n",
              "    <span style=\"font-size: 0.8em; font-weight: bold; line-height: 1; border-radius: 0.35em; vertical-align: middle; margin-left: 0.5rem\">SIGN_SYMPTOM</span>\n",
              "</mark>\n",
              " improved significantly.</div></span>"
            ]
          },
          "metadata": {}
        }
      ]
    },
    {
      "cell_type": "code",
      "source": [
        "\n",
        "\n",
        "\n",
        "def evaluate_ner(filepath):\n",
        "\n",
        "  total_entities = 0\n",
        "  found_entities =0\n",
        "  correct_entities = 0\n",
        "  incorrect_entities = 0\n",
        "  incorrect_dict = dict()\n",
        "  txt_file= filepath+\".txt\"\n",
        "  ann_file = filepath + \".ann\"\n",
        "\n",
        "  ann_group = get_annotations(ann_file_path=ann_file, txt_file_path=txt_file, tag_names=tag_names)\n",
        "  ann_dict = transform_to_dict_format(ann_group)\n",
        "\n",
        "  content = ann_dict[0]\n",
        "\n",
        "  entities_dict = ann_dict[1]\n",
        "\n",
        "  count = 0;\n",
        "  for i in entities_dict:\n",
        "    for j in (list(entities_dict[i].keys())):\n",
        "      count += (entities_dict[i][j])\n",
        "\n",
        "  total_entities += count\n",
        "\n",
        "  # run ner model on text\n",
        "  doc = my_model(content)\n",
        "  for ent in doc.ents:\n",
        "    # print(ent.text, ent.label_)\n",
        "\n",
        "    if(ent.label_ in entities_dict):\n",
        "      # declare entity's existance\n",
        "      found_entities += 1\n",
        "\n",
        "      if(ent.text in entities_dict[ent.label_] and entities_dict[ent.label_][ent.text] > 0):\n",
        "        # declare correct entity label\n",
        "        correct_entities += 1\n",
        "        # remove term count\n",
        "        entities_dict[ent.label_][ent.text] -= 1\n",
        "      else:\n",
        "        # declare incorrect entity label\n",
        "        incorrect_dict[ent.label_] = incorrect_dict.get(ent.label_,0) + 1\n",
        "        incorrect_entities += 1\n",
        "  # print(entities_dict)\n",
        "  unidentified_entities = 0\n",
        "  unidentified_dict = dict()\n",
        "  for i in entities_dict:\n",
        "    for j in (list(entities_dict[i].keys())):\n",
        "      if(entities_dict[i][j] > 0):\n",
        "        unidentified_entities += (entities_dict[i][j])\n",
        "        unidentified_dict[i] = unidentified_dict.get(i,0) + entities_dict[i][j]\n",
        "  # print(unidentified_dict)\n",
        "  return (total_entities, found_entities, correct_entities, incorrect_entities, unidentified_entities, incorrect_dict, unidentified_dict)\n",
        "\n"
      ],
      "metadata": {
        "id": "KhHSXrNA-ePL"
      },
      "execution_count": null,
      "outputs": []
    },
    {
      "cell_type": "code",
      "source": [
        "evaluate_ner(\"/content/drive/MyDrive/MACCROBAT2018/25210224\")"
      ],
      "metadata": {
        "colab": {
          "base_uri": "https://localhost:8080/"
        },
        "id": "ZPhOaDcSGLaO",
        "outputId": "8d5f451b-900b-44c4-eb04-52fc3840a53b"
      },
      "execution_count": null,
      "outputs": [
        {
          "output_type": "execute_result",
          "data": {
            "text/plain": [
              "(89,\n",
              " 89,\n",
              " 87,\n",
              " 2,\n",
              " 2,\n",
              " {'SIGN_SYMPTOM': 1, 'BIOLOGICAL_STRUCTURE': 1},\n",
              " {'DIAGNOSTIC_PROCEDURE': 1, 'BIOLOGICAL_STRUCTURE': 1})"
            ]
          },
          "metadata": {},
          "execution_count": 150
        }
      ]
    },
    {
      "cell_type": "code",
      "source": [
        "parent_path = \"/content/drive/MyDrive/MACCROBAT2018/\" # This folder contains all of the ann and txt files\n",
        "from tqdm import tqdm\n",
        "def evaluate_all(path):\n",
        "  fhand_filenames = open(parent_path +\"all_files.txt\",\"r\") # This file contains all the names of the ann/txt file\n",
        "  all_filenames = fhand_filenames.readlines()\n",
        "  fhand_filenames.close()\n",
        "\n",
        "  all_total_entities = 0\n",
        "  all_found_entities =0\n",
        "  all_correct_entities = 0\n",
        "  all_incorrect_entities = 0\n",
        "  all_unidentified_entities = 0\n",
        "  all_incorrect_dict = dict()\n",
        "  all_unidentified_dict = dict()\n",
        "\n",
        "  basenames = [filename[:-5] for filename in all_filenames if filename.endswith(\".txt\\n\")]\n",
        "\n",
        "  for basename in tqdm(basenames):\n",
        "    if basename == \"all_files\":\n",
        "      continue\n",
        "    total_entities, found_entities, correct_entities, incorrect_entities,unidentified_entities, incorrect_dict ,unidentified_dict= evaluate_ner(parent_path + basename)\n",
        "    all_total_entities += total_entities\n",
        "    all_found_entities += found_entities\n",
        "    all_correct_entities += correct_entities\n",
        "    all_incorrect_entities += incorrect_entities\n",
        "    all_unidentified_entities += unidentified_entities\n",
        "    for i in incorrect_dict:\n",
        "      all_incorrect_dict[i] = all_incorrect_dict.get(i,0) + incorrect_dict[i]\n",
        "    for i in unidentified_dict:\n",
        "      all_unidentified_dict[i] = all_unidentified_dict.get(i,0) + unidentified_dict[i]\n",
        "\n",
        "  print(\"\\nTotal entities: \", all_total_entities)\n",
        "  print(\"Found entities: \", all_found_entities, \" \" , (all_found_entities/all_total_entities)*100)\n",
        "  print(\"Correct entities: \", all_correct_entities, \" \" , (all_correct_entities/all_found_entities)*100)\n",
        "  print(\"Incorrect entities: \", all_incorrect_entities , \" \",  (all_incorrect_entities/all_found_entities)*100)\n",
        "  print(\"Unidentified entities: \", all_unidentified_entities , \" \",  (all_unidentified_entities/all_total_entities)*100)\n",
        "  print(\"Incorrect Dict : \", str(all_incorrect_dict))\n",
        "  print(\"Unidentified Dict : \", str(all_unidentified_dict))\n",
        "  # return (all_total_entities, all_found_entities, all_correct_entities, all_incorrect_entities, all_unidentified_entities)"
      ],
      "metadata": {
        "id": "ndyquRp7GdPq"
      },
      "execution_count": null,
      "outputs": []
    },
    {
      "cell_type": "code",
      "source": [
        "evaluate_all(parent_path)"
      ],
      "metadata": {
        "colab": {
          "base_uri": "https://localhost:8080/"
        },
        "id": "P52IA_emHxp-",
        "outputId": "d88c0d94-2e4f-4688-8a8f-10ed6eed498c"
      },
      "execution_count": null,
      "outputs": [
        {
          "output_type": "stream",
          "name": "stderr",
          "text": [
            "100%|██████████| 201/201 [00:09<00:00, 21.94it/s]"
          ]
        },
        {
          "output_type": "stream",
          "name": "stdout",
          "text": [
            "\n",
            "Total entities:  13261\n",
            "Found entities:  13288   100.20360455470929\n",
            "Correct entities:  13063   98.30674292594821\n",
            "Incorrect entities:  225   1.6932570740517758\n",
            "Unidentified entities:  198   1.493100067868185\n",
            "Incorrect Dict :  {'DIAGNOSTIC_PROCEDURE': 79, 'SIGN_SYMPTOM': 53, 'DISEASE_DISORDER': 23, 'BIOLOGICAL_STRUCTURE': 57, 'MEDICATION': 13}\n",
            "Unidentified Dict :  {'BIOLOGICAL_STRUCTURE': 44, 'DISEASE_DISORDER': 31, 'DIAGNOSTIC_PROCEDURE': 71, 'SIGN_SYMPTOM': 39, 'MEDICATION': 13}\n"
          ]
        },
        {
          "output_type": "stream",
          "name": "stderr",
          "text": [
            "\n"
          ]
        }
      ]
    },
    {
      "cell_type": "code",
      "source": [
        "print( 13063 + 198)"
      ],
      "metadata": {
        "colab": {
          "base_uri": "https://localhost:8080/"
        },
        "id": "THWAb1yB6cgW",
        "outputId": "c5999b82-0880-4971-a921-b9400357084d"
      },
      "execution_count": null,
      "outputs": [
        {
          "output_type": "stream",
          "name": "stdout",
          "text": [
            "13261\n"
          ]
        }
      ]
    }
  ]
}