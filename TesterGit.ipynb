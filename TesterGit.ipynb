{
  "nbformat": 4,
  "nbformat_minor": 0,
  "metadata": {
    "colab": {
      "provenance": [],
      "authorship_tag": "ABX9TyM/PVOqD404iVn9kUwJ34IQ",
      "include_colab_link": true
    },
    "kernelspec": {
      "name": "python3",
      "display_name": "Python 3"
    },
    "language_info": {
      "name": "python"
    }
  },
  "cells": [
    {
      "cell_type": "markdown",
      "metadata": {
        "id": "view-in-github",
        "colab_type": "text"
      },
      "source": [
        "<a href=\"https://colab.research.google.com/github/VSPSFOUR/COMP316-NLP-Project/blob/main/TesterGit.ipynb\" target=\"_parent\"><img src=\"https://colab.research.google.com/assets/colab-badge.svg\" alt=\"Open In Colab\"/></a>"
      ]
    },
    {
      "cell_type": "code",
      "execution_count": 2,
      "metadata": {
        "id": "FyVeWAalss5E",
        "colab": {
          "base_uri": "https://localhost:8080/"
        },
        "outputId": "ccf1cd62-2e69-4aa7-92b5-381f3124bf41"
      },
      "outputs": [
        {
          "output_type": "stream",
          "name": "stdout",
          "text": [
            "GitHub Test\n"
          ]
        }
      ],
      "source": [
        "print(\"GitHub Test\")"
      ]
    },
    {
      "cell_type": "code",
      "source": [
        "def greet(name :str):\n",
        "  greet_line = f\"Hello {name}\"\n",
        "  print(greet_line)"
      ],
      "metadata": {
        "id": "79OVn6aiwhIu"
      },
      "execution_count": 3,
      "outputs": []
    },
    {
      "cell_type": "code",
      "source": [
        "greet(\"Vyasa\")"
      ],
      "metadata": {
        "colab": {
          "base_uri": "https://localhost:8080/"
        },
        "id": "N46_3_SLwvhv",
        "outputId": "91e27e5e-c509-4c71-b4a0-f9cbfca18c02"
      },
      "execution_count": 4,
      "outputs": [
        {
          "output_type": "stream",
          "name": "stdout",
          "text": [
            "Hello Vyasa\n"
          ]
        }
      ]
    }
  ]
}