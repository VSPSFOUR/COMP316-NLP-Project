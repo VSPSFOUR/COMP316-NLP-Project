{
  "cells": [
    {
      "cell_type": "markdown",
      "metadata": {
        "id": "view-in-github",
        "colab_type": "text"
      },
      "source": [
        "<a href=\"https://colab.research.google.com/github/VSPSFOUR/COMP316-NLP-Project/blob/NER-Model/NER_Model_222003978_COMP316.ipynb\" target=\"_parent\"><img src=\"https://colab.research.google.com/assets/colab-badge.svg\" alt=\"Open In Colab\"/></a>"
      ]
    },
    {
      "cell_type": "markdown",
      "source": [
        "# Install Required Packages"
      ],
      "metadata": {
        "id": "N7B1NukNxDyA"
      }
    },
    {
      "cell_type": "code",
      "execution_count": null,
      "metadata": {
        "id": "Ik4CipzGlVe7"
      },
      "outputs": [],
      "source": [
        "!pip install spacy\n",
        "!pip install spacy-transformers"
      ]
    },
    {
      "cell_type": "markdown",
      "source": [
        "# Import Required Modules"
      ],
      "metadata": {
        "id": "4jSSCaM7xBUq"
      }
    },
    {
      "cell_type": "code",
      "execution_count": null,
      "metadata": {
        "id": "zYO4kW3T0S24"
      },
      "outputs": [],
      "source": [
        "import re\n",
        "import spacy\n",
        "from tqdm import tqdm # Used to display progress bar of loops\n",
        "from spacy.tokens import DocBin\n",
        "from spacy.util import filter_spans\n",
        "from spacy_transformers import Transformer"
      ]
    },
    {
      "cell_type": "markdown",
      "source": [
        "# Data Preparation\n",
        "*   Extraction of lines that start with \"T\" from filepaths.\n",
        "*   Creating Annotations and \"Annotation Groups\"."
      ],
      "metadata": {
        "id": "RguhOR5bxnKP"
      }
    },
    {
      "cell_type": "code",
      "source": [
        "def get_annotations(ann_file_path : str , txt_file_path:str, tag_names:list):\n",
        "  \"\"\"\n",
        "  return format : [text_file_content, (entity_label, start, end, term), ... (entity_label, start, end, term)]\n",
        "  \"\"\"\n",
        "  # Get all file contents\n",
        "  ann_fhand = open(ann_file_path, \"r\")\n",
        "  text_fhand = open(txt_file_path, \"r\")\n",
        "\n",
        "  ann_file_content = ann_fhand.read()\n",
        "  text_file_content = text_fhand.read();\n",
        "\n",
        "  ann_fhand.close()\n",
        "  text_fhand.close()\n",
        "\n",
        "  annotation_group = [text_file_content]\n",
        "\n",
        "  # Extracting the lines that include desired labels/enities\n",
        "  regex = r'^T.*(?:' + '|'.join(tag_names) + r').*$'\n",
        "  all_valid = re.findall(regex , ann_file_content , flags = re.MULTILINE)\n",
        "\n",
        "  # Processing into Annottaions\n",
        "  for valid_line in all_valid:\n",
        "    line_components = valid_line.split()\n",
        "    entity_type,start_index, end_index , *term = line_components[1:]\n",
        "    entity_type = entity_type.upper()\n",
        "    term = \" \".join(term)\n",
        "    if(not(start_index.isdigit() and end_index.isdigit())):\n",
        "      continue\n",
        "    start_index = int(start_index)\n",
        "    end_index = int(end_index)\n",
        "    entity_type = entity_type.strip()\n",
        "    annotation = (entity_type, start_index,end_index, term)\n",
        "\n",
        "    # Add formed annotation to annotation group\n",
        "    annotation_group.append(annotation)\n",
        "\n",
        "  return annotation_group"
      ],
      "metadata": {
        "id": "1htiZzIldY23"
      },
      "execution_count": null,
      "outputs": []
    },
    {
      "cell_type": "code",
      "execution_count": null,
      "metadata": {
        "id": "qPAcFx4laNgz",
        "colab": {
          "base_uri": "https://localhost:8080/"
        },
        "outputId": "6ac957cf-a449-4626-b737-9cdb78953e3f"
      },
      "outputs": [
        {
          "output_type": "stream",
          "name": "stderr",
          "text": [
            "100%|██████████| 200/200 [00:00<00:00, 299.04it/s]\n"
          ]
        }
      ],
      "source": [
        "parent_path = \"/content/drive/MyDrive/MACCROBAT2020/\" # This folder contains all of the ann and txt files\n",
        "fhand_filenames = open(parent_path +\"all_files.txt\",\"r\") # This file contains all the names of the ann/txt file\n",
        "all_filenames = fhand_filenames.readlines()\n",
        "\n",
        "basenames = [filename[:-5] for filename in all_filenames if filename.endswith(\".txt\\n\")]\n",
        "\n",
        "all_annotation_groups = list()\n",
        "\n",
        "# All desired label/entity names\n",
        "tag_names = [\"Sign_symptom\" , \"Diagnostic_procedure\", \"Biological_structure\", \"Disease_disorder\",\"Medication\"]\n",
        "\n",
        "# Commence with the extraction of annotation\n",
        "for name in tqdm(basenames):\n",
        "  ann_file_path = parent_path+name+\".ann\"\n",
        "  txt_file_path = parent_path+name+\".txt\"\n",
        "\n",
        "  # Collectivise all annotations of each text file\n",
        "  all_annotation_groups.append(get_annotations(ann_file_path, txt_file_path,tag_names))"
      ]
    },
    {
      "cell_type": "markdown",
      "source": [
        "# Data Preparation for training the model\n",
        "*   Creating Spans\n",
        "*   Excluding all duplicate spans"
      ],
      "metadata": {
        "id": "ch_BFrQX00Aa"
      }
    },
    {
      "cell_type": "code",
      "execution_count": null,
      "metadata": {
        "id": "2iGlh2AgiwLB",
        "colab": {
          "base_uri": "https://localhost:8080/"
        },
        "outputId": "2b7624f8-3390-4880-9d7d-78f79deb2a08"
      },
      "outputs": [
        {
          "output_type": "stream",
          "name": "stderr",
          "text": [
            "/usr/local/lib/python3.10/dist-packages/spacy/util.py:1740: UserWarning: [W111] Jupyter notebook detected: if using `prefer_gpu()` or `require_gpu()`, include it in the same cell right before `spacy.load()` to ensure that the model is loaded on the correct device. More information: http://spacy.io/usage/v3#jupyter-notebook-gpu\n",
            "  warnings.warn(Warnings.W111)\n",
            "100%|██████████| 200/200 [00:01<00:00, 138.19it/s]\n"
          ]
        }
      ],
      "source": [
        "nlp = spacy.blank('en')\n",
        "doc_bin= DocBin()\n",
        "\n",
        "for annotation_group in tqdm(all_annotation_groups):\n",
        "  content = annotation_group[0]\n",
        "  entities = annotation_group[1:]\n",
        "\n",
        "  doc = nlp.make_doc(content)\n",
        "  entity_spans = list()\n",
        "  for  tag_name , start_index, end_index, term in entities:\n",
        "    # Make spans from indexes and labels\n",
        "    span = doc.char_span(start_index , end_index, label = tag_name, alignment_mode=\"contract\")\n",
        "\n",
        "    if(not(span is None)):\n",
        "      entity_spans.append(span)\n",
        "  # Ensure that all spans are unique\n",
        "  unique_spans = filter_spans(entity_spans)\n",
        "  doc.set_ents(unique_spans)\n",
        "  doc_bin.add(doc)\n",
        "doc_bin.to_disk(\"train.spacy\")"
      ]
    },
    {
      "cell_type": "markdown",
      "source": [
        "# Train the NER Model\n",
        "*   Create a config file with custom settings.\n",
        "*   Start the training of the model.\n",
        "\n"
      ],
      "metadata": {
        "id": "bl_jJpCe8egn"
      }
    },
    {
      "cell_type": "code",
      "execution_count": null,
      "metadata": {
        "id": "onsyzY_FWvYa",
        "colab": {
          "base_uri": "https://localhost:8080/"
        },
        "outputId": "b5d5e8a2-55c4-4b5a-82b5-8fd95ac9f996"
      },
      "outputs": [
        {
          "output_type": "stream",
          "name": "stdout",
          "text": [
            "/usr/local/lib/python3.10/dist-packages/transformers/utils/generic.py:441: UserWarning: torch.utils._pytree._register_pytree_node is deprecated. Please use torch.utils._pytree.register_pytree_node instead.\n",
            "  _torch_pytree._register_pytree_node(\n",
            "/usr/local/lib/python3.10/dist-packages/transformers/utils/generic.py:309: UserWarning: torch.utils._pytree._register_pytree_node is deprecated. Please use torch.utils._pytree.register_pytree_node instead.\n",
            "  _torch_pytree._register_pytree_node(\n",
            "\u001b[38;5;4mℹ Generated config template specific for your use case\u001b[0m\n",
            "- Language: en\n",
            "- Pipeline: ner\n",
            "- Optimize for: efficiency\n",
            "- Hardware: GPU\n",
            "- Transformer: roberta-base\n",
            "\u001b[38;5;2m✔ Auto-filled config with all values\u001b[0m\n",
            "\u001b[38;5;2m✔ Saved config\u001b[0m\n",
            "config.cfg\n",
            "You can now add your data and train your pipeline:\n",
            "python -m spacy train config.cfg --paths.train ./train.spacy --paths.dev ./dev.spacy\n"
          ]
        }
      ],
      "source": [
        "! python -m spacy init config config.cfg --lang en --pipeline ner --gpu --force"
      ]
    },
    {
      "cell_type": "code",
      "source": [
        "! python -m spacy train config.cfg --output ./ --paths.train ./train.spacy --paths.dev ./train.spacy --gpu-id 0"
      ],
      "metadata": {
        "id": "lhw1XqVoD0Wk",
        "colab": {
          "base_uri": "https://localhost:8080/"
        },
        "outputId": "2c0b7290-c67f-423b-ad07-172d14ebc998"
      },
      "execution_count": null,
      "outputs": [
        {
          "output_type": "stream",
          "name": "stdout",
          "text": [
            "\u001b[38;5;4mℹ Saving to output directory: .\u001b[0m\n",
            "\u001b[38;5;4mℹ Using GPU: 0\u001b[0m\n",
            "\u001b[1m\n",
            "=========================== Initializing pipeline ===========================\u001b[0m\n",
            "/usr/local/lib/python3.10/dist-packages/transformers/utils/generic.py:441: UserWarning: torch.utils._pytree._register_pytree_node is deprecated. Please use torch.utils._pytree.register_pytree_node instead.\n",
            "  _torch_pytree._register_pytree_node(\n",
            "/usr/local/lib/python3.10/dist-packages/transformers/utils/generic.py:309: UserWarning: torch.utils._pytree._register_pytree_node is deprecated. Please use torch.utils._pytree.register_pytree_node instead.\n",
            "  _torch_pytree._register_pytree_node(\n",
            "Some weights of RobertaModel were not initialized from the model checkpoint at roberta-base and are newly initialized: ['roberta.pooler.dense.weight', 'roberta.pooler.dense.bias']\n",
            "You should probably TRAIN this model on a down-stream task to be able to use it for predictions and inference.\n",
            "\u001b[38;5;2m✔ Initialized pipeline\u001b[0m\n",
            "\u001b[1m\n",
            "============================= Training pipeline =============================\u001b[0m\n",
            "\u001b[38;5;4mℹ Pipeline: ['transformer', 'ner']\u001b[0m\n",
            "\u001b[38;5;4mℹ Initial learn rate: 0.0\u001b[0m\n",
            "E    #       LOSS TRANS...  LOSS NER  ENTS_F  ENTS_P  ENTS_R  SCORE \n",
            "---  ------  -------------  --------  ------  ------  ------  ------\n",
            "  0       0        3135.49    806.11    0.47    0.39    0.62    0.00\n",
            "  2     200      531076.12  91085.73   55.61   59.79   51.97    0.56\n",
            "  5     400       28353.19  27726.95   84.04   86.14   82.03    0.84\n",
            "  8     600        8298.01  14206.83   91.96   89.84   94.17    0.92\n",
            " 11     800        5053.70   9080.34   94.39   92.35   96.52    0.94\n",
            " 14    1000        4105.26   6062.71   96.83   95.98   97.69    0.97\n",
            " 17    1200        2147.78   3823.04   98.61   98.56   98.67    0.99\n",
            " 20    1400        1552.93   2667.23   98.24   98.08   98.41    0.98\n",
            " 23    1600        1164.11   1816.13   99.28   99.23   99.33    0.99\n",
            "\n",
            "\u001b[31mAborted.\u001b[0m\n"
          ]
        }
      ]
    },
    {
      "cell_type": "markdown",
      "source": [
        "# Basic testing of NER Model"
      ],
      "metadata": {
        "id": "WvMaY8hw87J7"
      }
    },
    {
      "cell_type": "code",
      "execution_count": null,
      "metadata": {
        "id": "X9CyNuOplYmv"
      },
      "outputs": [],
      "source": [
        "nlp_trained_model = spacy.load(\"model-best\")"
      ]
    },
    {
      "cell_type": "code",
      "execution_count": null,
      "metadata": {
        "id": "8OEKaYJila45"
      },
      "outputs": [],
      "source": [
        "doc = nlp_trained_model('''\n",
        "Patient John Doe, a 45-year-old male, presented with a persistent cough, fever, and shortness of breath. The doctor ordered a chest X-ray and blood tests to diagnose the underlying condition. The X-ray revealed signs of pneumonia, and the blood work showed elevated white blood cell count, indicating an infection.\n",
        "\n",
        "The patient was prescribed a course of Azithromycin, an antibiotic, to treat the bacterial pneumonia. Additionally, the doctor recommended taking Ibuprofen to alleviate the fever and body aches associated with the illness.\n",
        "\n",
        "Mr. Doe has a history of hypertension and is currently on Lisinopril to manage his high blood pressure. He also has Type 2 diabetes mellitus and takes Metformin regularly to control his blood sugar levels.\n",
        "\n",
        "During the follow-up visit, the physician noted that the patient's symptoms had improved, and the pneumonia was resolving. However, the doctor advised Mr. Doe to complete the entire course of antibiotics as prescribed to prevent a relapse.\n",
        "\n",
        "Furthermore, the doctor recommended a pulmonary function test to evaluate the patient's lung capacity and rule out any underlying chronic respiratory conditions, such as asthma or chronic obstructive pulmonary disease (COPD).\n",
        "\n",
        "In addition to the medical conditions, the patient reported experiencing occasional heartburn and gastric discomfort. The doctor suggested taking an over-the-counter antacid like Omeprazole to manage the symptoms of acid reflux.\n",
        "\n",
        "Overall, with proper treatment and medication management, the patient's condition is expected to improve, and the risk of complications should be minimized.\n",
        "''')"
      ]
    },
    {
      "cell_type": "code",
      "execution_count": null,
      "metadata": {
        "id": "bpenRw5qlcQ6",
        "colab": {
          "base_uri": "https://localhost:8080/",
          "height": 787
        },
        "outputId": "0810b65f-6f56-4d11-8bbc-5c22f86c9de0"
      },
      "outputs": [
        {
          "output_type": "display_data",
          "data": {
            "text/plain": [
              "<IPython.core.display.HTML object>"
            ],
            "text/html": [
              "<span class=\"tex2jax_ignore\"><div class=\"entities\" style=\"line-height: 2.5; direction: ltr\"><br>Patient John Doe, a 45-year-old male, presented with a persistent \n",
              "<mark class=\"entity\" style=\"background: #ddd; padding: 0.45em 0.6em; margin: 0 0.25em; line-height: 1; border-radius: 0.35em;\">\n",
              "    cough\n",
              "    <span style=\"font-size: 0.8em; font-weight: bold; line-height: 1; border-radius: 0.35em; vertical-align: middle; margin-left: 0.5rem\">SIGN_SYMPTOM</span>\n",
              "</mark>\n",
              ", \n",
              "<mark class=\"entity\" style=\"background: #ddd; padding: 0.45em 0.6em; margin: 0 0.25em; line-height: 1; border-radius: 0.35em;\">\n",
              "    fever\n",
              "    <span style=\"font-size: 0.8em; font-weight: bold; line-height: 1; border-radius: 0.35em; vertical-align: middle; margin-left: 0.5rem\">SIGN_SYMPTOM</span>\n",
              "</mark>\n",
              ", and \n",
              "<mark class=\"entity\" style=\"background: #ddd; padding: 0.45em 0.6em; margin: 0 0.25em; line-height: 1; border-radius: 0.35em;\">\n",
              "    shortness of breath\n",
              "    <span style=\"font-size: 0.8em; font-weight: bold; line-height: 1; border-radius: 0.35em; vertical-align: middle; margin-left: 0.5rem\">SIGN_SYMPTOM</span>\n",
              "</mark>\n",
              ". The doctor ordered a \n",
              "<mark class=\"entity\" style=\"background: #ddd; padding: 0.45em 0.6em; margin: 0 0.25em; line-height: 1; border-radius: 0.35em;\">\n",
              "    chest\n",
              "    <span style=\"font-size: 0.8em; font-weight: bold; line-height: 1; border-radius: 0.35em; vertical-align: middle; margin-left: 0.5rem\">BIOLOGICAL_STRUCTURE</span>\n",
              "</mark>\n",
              " \n",
              "<mark class=\"entity\" style=\"background: #ddd; padding: 0.45em 0.6em; margin: 0 0.25em; line-height: 1; border-radius: 0.35em;\">\n",
              "    X-ray\n",
              "    <span style=\"font-size: 0.8em; font-weight: bold; line-height: 1; border-radius: 0.35em; vertical-align: middle; margin-left: 0.5rem\">DIAGNOSTIC_PROCEDURE</span>\n",
              "</mark>\n",
              " and \n",
              "<mark class=\"entity\" style=\"background: #ddd; padding: 0.45em 0.6em; margin: 0 0.25em; line-height: 1; border-radius: 0.35em;\">\n",
              "    blood tests\n",
              "    <span style=\"font-size: 0.8em; font-weight: bold; line-height: 1; border-radius: 0.35em; vertical-align: middle; margin-left: 0.5rem\">DIAGNOSTIC_PROCEDURE</span>\n",
              "</mark>\n",
              " to diagnose the underlying condition. The \n",
              "<mark class=\"entity\" style=\"background: #ddd; padding: 0.45em 0.6em; margin: 0 0.25em; line-height: 1; border-radius: 0.35em;\">\n",
              "    X-ray\n",
              "    <span style=\"font-size: 0.8em; font-weight: bold; line-height: 1; border-radius: 0.35em; vertical-align: middle; margin-left: 0.5rem\">DIAGNOSTIC_PROCEDURE</span>\n",
              "</mark>\n",
              " revealed signs of \n",
              "<mark class=\"entity\" style=\"background: #ddd; padding: 0.45em 0.6em; margin: 0 0.25em; line-height: 1; border-radius: 0.35em;\">\n",
              "    pneumonia\n",
              "    <span style=\"font-size: 0.8em; font-weight: bold; line-height: 1; border-radius: 0.35em; vertical-align: middle; margin-left: 0.5rem\">DISEASE_DISORDER</span>\n",
              "</mark>\n",
              ", and the \n",
              "<mark class=\"entity\" style=\"background: #ddd; padding: 0.45em 0.6em; margin: 0 0.25em; line-height: 1; border-radius: 0.35em;\">\n",
              "    blood work\n",
              "    <span style=\"font-size: 0.8em; font-weight: bold; line-height: 1; border-radius: 0.35em; vertical-align: middle; margin-left: 0.5rem\">DIAGNOSTIC_PROCEDURE</span>\n",
              "</mark>\n",
              " showed elevated \n",
              "<mark class=\"entity\" style=\"background: #ddd; padding: 0.45em 0.6em; margin: 0 0.25em; line-height: 1; border-radius: 0.35em;\">\n",
              "    white blood cell count\n",
              "    <span style=\"font-size: 0.8em; font-weight: bold; line-height: 1; border-radius: 0.35em; vertical-align: middle; margin-left: 0.5rem\">DIAGNOSTIC_PROCEDURE</span>\n",
              "</mark>\n",
              ", indicating an \n",
              "<mark class=\"entity\" style=\"background: #ddd; padding: 0.45em 0.6em; margin: 0 0.25em; line-height: 1; border-radius: 0.35em;\">\n",
              "    infection\n",
              "    <span style=\"font-size: 0.8em; font-weight: bold; line-height: 1; border-radius: 0.35em; vertical-align: middle; margin-left: 0.5rem\">DISEASE_DISORDER</span>\n",
              "</mark>\n",
              ".<br><br>The patient was prescribed a course of \n",
              "<mark class=\"entity\" style=\"background: #ddd; padding: 0.45em 0.6em; margin: 0 0.25em; line-height: 1; border-radius: 0.35em;\">\n",
              "    Azithromycin\n",
              "    <span style=\"font-size: 0.8em; font-weight: bold; line-height: 1; border-radius: 0.35em; vertical-align: middle; margin-left: 0.5rem\">MEDICATION</span>\n",
              "</mark>\n",
              ", an \n",
              "<mark class=\"entity\" style=\"background: #ddd; padding: 0.45em 0.6em; margin: 0 0.25em; line-height: 1; border-radius: 0.35em;\">\n",
              "    antibiotic\n",
              "    <span style=\"font-size: 0.8em; font-weight: bold; line-height: 1; border-radius: 0.35em; vertical-align: middle; margin-left: 0.5rem\">MEDICATION</span>\n",
              "</mark>\n",
              ", to treat the bacterial \n",
              "<mark class=\"entity\" style=\"background: #ddd; padding: 0.45em 0.6em; margin: 0 0.25em; line-height: 1; border-radius: 0.35em;\">\n",
              "    pneumonia\n",
              "    <span style=\"font-size: 0.8em; font-weight: bold; line-height: 1; border-radius: 0.35em; vertical-align: middle; margin-left: 0.5rem\">DISEASE_DISORDER</span>\n",
              "</mark>\n",
              ". Additionally, the doctor recommended taking \n",
              "<mark class=\"entity\" style=\"background: #ddd; padding: 0.45em 0.6em; margin: 0 0.25em; line-height: 1; border-radius: 0.35em;\">\n",
              "    Ibuprofen\n",
              "    <span style=\"font-size: 0.8em; font-weight: bold; line-height: 1; border-radius: 0.35em; vertical-align: middle; margin-left: 0.5rem\">MEDICATION</span>\n",
              "</mark>\n",
              " to alleviate the \n",
              "<mark class=\"entity\" style=\"background: #ddd; padding: 0.45em 0.6em; margin: 0 0.25em; line-height: 1; border-radius: 0.35em;\">\n",
              "    fever\n",
              "    <span style=\"font-size: 0.8em; font-weight: bold; line-height: 1; border-radius: 0.35em; vertical-align: middle; margin-left: 0.5rem\">SIGN_SYMPTOM</span>\n",
              "</mark>\n",
              " and \n",
              "<mark class=\"entity\" style=\"background: #ddd; padding: 0.45em 0.6em; margin: 0 0.25em; line-height: 1; border-radius: 0.35em;\">\n",
              "    body aches\n",
              "    <span style=\"font-size: 0.8em; font-weight: bold; line-height: 1; border-radius: 0.35em; vertical-align: middle; margin-left: 0.5rem\">SIGN_SYMPTOM</span>\n",
              "</mark>\n",
              " associated with the illness.<br><br>Mr. Doe has a history of \n",
              "<mark class=\"entity\" style=\"background: #ddd; padding: 0.45em 0.6em; margin: 0 0.25em; line-height: 1; border-radius: 0.35em;\">\n",
              "    hypertension\n",
              "    <span style=\"font-size: 0.8em; font-weight: bold; line-height: 1; border-radius: 0.35em; vertical-align: middle; margin-left: 0.5rem\">DISEASE_DISORDER</span>\n",
              "</mark>\n",
              " and is currently on \n",
              "<mark class=\"entity\" style=\"background: #ddd; padding: 0.45em 0.6em; margin: 0 0.25em; line-height: 1; border-radius: 0.35em;\">\n",
              "    Lisinopril\n",
              "    <span style=\"font-size: 0.8em; font-weight: bold; line-height: 1; border-radius: 0.35em; vertical-align: middle; margin-left: 0.5rem\">MEDICATION</span>\n",
              "</mark>\n",
              " to manage his \n",
              "<mark class=\"entity\" style=\"background: #ddd; padding: 0.45em 0.6em; margin: 0 0.25em; line-height: 1; border-radius: 0.35em;\">\n",
              "    high blood pressure\n",
              "    <span style=\"font-size: 0.8em; font-weight: bold; line-height: 1; border-radius: 0.35em; vertical-align: middle; margin-left: 0.5rem\">SIGN_SYMPTOM</span>\n",
              "</mark>\n",
              ". He also has Type 2 diabetes mellitus and takes \n",
              "<mark class=\"entity\" style=\"background: #ddd; padding: 0.45em 0.6em; margin: 0 0.25em; line-height: 1; border-radius: 0.35em;\">\n",
              "    Metformin\n",
              "    <span style=\"font-size: 0.8em; font-weight: bold; line-height: 1; border-radius: 0.35em; vertical-align: middle; margin-left: 0.5rem\">MEDICATION</span>\n",
              "</mark>\n",
              " regularly to control his blood sugar levels.<br><br>During the follow-up visit, the physician noted that the patient's \n",
              "<mark class=\"entity\" style=\"background: #ddd; padding: 0.45em 0.6em; margin: 0 0.25em; line-height: 1; border-radius: 0.35em;\">\n",
              "    symptoms\n",
              "    <span style=\"font-size: 0.8em; font-weight: bold; line-height: 1; border-radius: 0.35em; vertical-align: middle; margin-left: 0.5rem\">SIGN_SYMPTOM</span>\n",
              "</mark>\n",
              " had improved, and the \n",
              "<mark class=\"entity\" style=\"background: #ddd; padding: 0.45em 0.6em; margin: 0 0.25em; line-height: 1; border-radius: 0.35em;\">\n",
              "    pneumonia\n",
              "    <span style=\"font-size: 0.8em; font-weight: bold; line-height: 1; border-radius: 0.35em; vertical-align: middle; margin-left: 0.5rem\">DISEASE_DISORDER</span>\n",
              "</mark>\n",
              " was resolving. However, the doctor advised Mr. Doe to complete the entire course of \n",
              "<mark class=\"entity\" style=\"background: #ddd; padding: 0.45em 0.6em; margin: 0 0.25em; line-height: 1; border-radius: 0.35em;\">\n",
              "    antibiotics\n",
              "    <span style=\"font-size: 0.8em; font-weight: bold; line-height: 1; border-radius: 0.35em; vertical-align: middle; margin-left: 0.5rem\">MEDICATION</span>\n",
              "</mark>\n",
              " as prescribed to prevent a \n",
              "<mark class=\"entity\" style=\"background: #ddd; padding: 0.45em 0.6em; margin: 0 0.25em; line-height: 1; border-radius: 0.35em;\">\n",
              "    relapse\n",
              "    <span style=\"font-size: 0.8em; font-weight: bold; line-height: 1; border-radius: 0.35em; vertical-align: middle; margin-left: 0.5rem\">SIGN_SYMPTOM</span>\n",
              "</mark>\n",
              ".<br><br>Furthermore, the doctor recommended a \n",
              "<mark class=\"entity\" style=\"background: #ddd; padding: 0.45em 0.6em; margin: 0 0.25em; line-height: 1; border-radius: 0.35em;\">\n",
              "    pulmonary function test\n",
              "    <span style=\"font-size: 0.8em; font-weight: bold; line-height: 1; border-radius: 0.35em; vertical-align: middle; margin-left: 0.5rem\">DIAGNOSTIC_PROCEDURE</span>\n",
              "</mark>\n",
              " to evaluate the patient's \n",
              "<mark class=\"entity\" style=\"background: #ddd; padding: 0.45em 0.6em; margin: 0 0.25em; line-height: 1; border-radius: 0.35em;\">\n",
              "    lung capacity\n",
              "    <span style=\"font-size: 0.8em; font-weight: bold; line-height: 1; border-radius: 0.35em; vertical-align: middle; margin-left: 0.5rem\">DIAGNOSTIC_PROCEDURE</span>\n",
              "</mark>\n",
              " and rule out any underlying \n",
              "<mark class=\"entity\" style=\"background: #ddd; padding: 0.45em 0.6em; margin: 0 0.25em; line-height: 1; border-radius: 0.35em;\">\n",
              "    chronic respiratory conditions\n",
              "    <span style=\"font-size: 0.8em; font-weight: bold; line-height: 1; border-radius: 0.35em; vertical-align: middle; margin-left: 0.5rem\">DISEASE_DISORDER</span>\n",
              "</mark>\n",
              ", such as \n",
              "<mark class=\"entity\" style=\"background: #ddd; padding: 0.45em 0.6em; margin: 0 0.25em; line-height: 1; border-radius: 0.35em;\">\n",
              "    asthma\n",
              "    <span style=\"font-size: 0.8em; font-weight: bold; line-height: 1; border-radius: 0.35em; vertical-align: middle; margin-left: 0.5rem\">DISEASE_DISORDER</span>\n",
              "</mark>\n",
              " or \n",
              "<mark class=\"entity\" style=\"background: #ddd; padding: 0.45em 0.6em; margin: 0 0.25em; line-height: 1; border-radius: 0.35em;\">\n",
              "    chronic obstructive pulmonary disease\n",
              "    <span style=\"font-size: 0.8em; font-weight: bold; line-height: 1; border-radius: 0.35em; vertical-align: middle; margin-left: 0.5rem\">DISEASE_DISORDER</span>\n",
              "</mark>\n",
              " (\n",
              "<mark class=\"entity\" style=\"background: #ddd; padding: 0.45em 0.6em; margin: 0 0.25em; line-height: 1; border-radius: 0.35em;\">\n",
              "    COPD\n",
              "    <span style=\"font-size: 0.8em; font-weight: bold; line-height: 1; border-radius: 0.35em; vertical-align: middle; margin-left: 0.5rem\">DISEASE_DISORDER</span>\n",
              "</mark>\n",
              ").<br><br>In addition to the medical conditions, the patient reported experiencing occasional \n",
              "<mark class=\"entity\" style=\"background: #ddd; padding: 0.45em 0.6em; margin: 0 0.25em; line-height: 1; border-radius: 0.35em;\">\n",
              "    heartburn\n",
              "    <span style=\"font-size: 0.8em; font-weight: bold; line-height: 1; border-radius: 0.35em; vertical-align: middle; margin-left: 0.5rem\">SIGN_SYMPTOM</span>\n",
              "</mark>\n",
              " and \n",
              "<mark class=\"entity\" style=\"background: #ddd; padding: 0.45em 0.6em; margin: 0 0.25em; line-height: 1; border-radius: 0.35em;\">\n",
              "    gastric\n",
              "    <span style=\"font-size: 0.8em; font-weight: bold; line-height: 1; border-radius: 0.35em; vertical-align: middle; margin-left: 0.5rem\">BIOLOGICAL_STRUCTURE</span>\n",
              "</mark>\n",
              " \n",
              "<mark class=\"entity\" style=\"background: #ddd; padding: 0.45em 0.6em; margin: 0 0.25em; line-height: 1; border-radius: 0.35em;\">\n",
              "    discomfort\n",
              "    <span style=\"font-size: 0.8em; font-weight: bold; line-height: 1; border-radius: 0.35em; vertical-align: middle; margin-left: 0.5rem\">SIGN_SYMPTOM</span>\n",
              "</mark>\n",
              ". The doctor suggested taking an over-the-counter \n",
              "<mark class=\"entity\" style=\"background: #ddd; padding: 0.45em 0.6em; margin: 0 0.25em; line-height: 1; border-radius: 0.35em;\">\n",
              "    antacid\n",
              "    <span style=\"font-size: 0.8em; font-weight: bold; line-height: 1; border-radius: 0.35em; vertical-align: middle; margin-left: 0.5rem\">MEDICATION</span>\n",
              "</mark>\n",
              " like \n",
              "<mark class=\"entity\" style=\"background: #ddd; padding: 0.45em 0.6em; margin: 0 0.25em; line-height: 1; border-radius: 0.35em;\">\n",
              "    Omeprazole\n",
              "    <span style=\"font-size: 0.8em; font-weight: bold; line-height: 1; border-radius: 0.35em; vertical-align: middle; margin-left: 0.5rem\">MEDICATION</span>\n",
              "</mark>\n",
              " to manage the symptoms of \n",
              "<mark class=\"entity\" style=\"background: #ddd; padding: 0.45em 0.6em; margin: 0 0.25em; line-height: 1; border-radius: 0.35em;\">\n",
              "    acid reflux\n",
              "    <span style=\"font-size: 0.8em; font-weight: bold; line-height: 1; border-radius: 0.35em; vertical-align: middle; margin-left: 0.5rem\">DISEASE_DISORDER</span>\n",
              "</mark>\n",
              ".<br><br>Overall, with proper treatment and medication management, the patient's \n",
              "<mark class=\"entity\" style=\"background: #ddd; padding: 0.45em 0.6em; margin: 0 0.25em; line-height: 1; border-radius: 0.35em;\">\n",
              "    condition\n",
              "    <span style=\"font-size: 0.8em; font-weight: bold; line-height: 1; border-radius: 0.35em; vertical-align: middle; margin-left: 0.5rem\">DIAGNOSTIC_PROCEDURE</span>\n",
              "</mark>\n",
              " is expected to improve, and the risk of \n",
              "<mark class=\"entity\" style=\"background: #ddd; padding: 0.45em 0.6em; margin: 0 0.25em; line-height: 1; border-radius: 0.35em;\">\n",
              "    complications\n",
              "    <span style=\"font-size: 0.8em; font-weight: bold; line-height: 1; border-radius: 0.35em; vertical-align: middle; margin-left: 0.5rem\">DISEASE_DISORDER</span>\n",
              "</mark>\n",
              " should be minimized.<br></div></span>"
            ]
          },
          "metadata": {}
        }
      ],
      "source": [
        "spacy.displacy.render(doc, style=\"ent\", jupyter=True)"
      ]
    },
    {
      "cell_type": "code",
      "execution_count": null,
      "metadata": {
        "id": "9DjhYZTNJK6M"
      },
      "outputs": [],
      "source": [
        "output_dir =\"ner_model_gpu\"\n",
        "nlp_trained_model.to_disk(output_dir)"
      ]
    }
  ],
  "metadata": {
    "accelerator": "GPU",
    "colab": {
      "gpuType": "L4",
      "machine_shape": "hm",
      "provenance": [],
      "collapsed_sections": [
        "N7B1NukNxDyA",
        "4jSSCaM7xBUq",
        "RguhOR5bxnKP",
        "ch_BFrQX00Aa",
        "bl_jJpCe8egn",
        "WvMaY8hw87J7"
      ],
      "mount_file_id": "19kNtEInkJ17m0oz5BL2pAJk-BGi31l_-",
      "authorship_tag": "ABX9TyOeXPiE60b5DZpkI47AeFss",
      "include_colab_link": true
    },
    "kernelspec": {
      "display_name": "Python 3",
      "name": "python3"
    },
    "language_info": {
      "name": "python"
    }
  },
  "nbformat": 4,
  "nbformat_minor": 0
}