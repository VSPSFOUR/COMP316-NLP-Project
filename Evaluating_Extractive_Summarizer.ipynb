{
  "nbformat": 4,
  "nbformat_minor": 0,
  "metadata": {
    "colab": {
      "provenance": [],
      "mount_file_id": "12VDhznCZpNmRu8Nn9Bszu46XxLoZgNGP",
      "authorship_tag": "ABX9TyP6jftMZhNQEwn4tNZ2iqKc",
      "include_colab_link": true
    },
    "kernelspec": {
      "name": "python3",
      "display_name": "Python 3"
    },
    "language_info": {
      "name": "python"
    }
  },
  "cells": [
    {
      "cell_type": "markdown",
      "metadata": {
        "id": "view-in-github",
        "colab_type": "text"
      },
      "source": [
        "<a href=\"https://colab.research.google.com/github/VSPSFOUR/COMP316-NLP-Project/blob/Extractive-Summarizer/Evaluating_Extractive_Summarizer.ipynb\" target=\"_parent\"><img src=\"https://colab.research.google.com/assets/colab-badge.svg\" alt=\"Open In Colab\"/></a>"
      ]
    },
    {
      "cell_type": "markdown",
      "source": [
        "# Code for Extractive Summarization\n"
      ],
      "metadata": {
        "id": "a7MDx6VVCulA"
      }
    },
    {
      "cell_type": "code",
      "execution_count": null,
      "metadata": {
        "id": "TYAN_4_d91yb",
        "colab": {
          "base_uri": "https://localhost:8080/"
        },
        "outputId": "a887aa8b-9082-4264-bc95-1092c4ad2024"
      },
      "outputs": [
        {
          "output_type": "stream",
          "name": "stderr",
          "text": [
            "[nltk_data] Downloading package punkt to /root/nltk_data...\n",
            "[nltk_data]   Package punkt is already up-to-date!\n",
            "[nltk_data] Downloading package stopwords to /root/nltk_data...\n",
            "[nltk_data]   Package stopwords is already up-to-date!\n"
          ]
        }
      ],
      "source": [
        "import nltk\n",
        "# import spacy\n",
        "# import wikipedia\n",
        "nltk.download('punkt')\n",
        "nltk.download('stopwords')\n",
        "from tabulate import tabulate\n",
        "\n",
        "from nltk.tokenize import sent_tokenize, word_tokenize\n",
        "from nltk.corpus import stopwords\n",
        "from nltk.cluster.util import cosine_distance"
      ]
    },
    {
      "cell_type": "code",
      "source": [
        "\n",
        "def find_similarity(sentence1:list, sentence2:list, stopwords=None):\n",
        "\n",
        "  # Removing all stop words\n",
        "  filtered_sentence1 = [word.lower() for word in sentence1 if word not in stopwords]\n",
        "  filtered_sentence2 = [word.lower() for word in sentence2 if word not in stopwords]\n",
        "\n",
        "\n",
        "  # get unique words\n",
        "  unique_words = list()\n",
        "  unique_words.extend(filtered_sentence1)\n",
        "  unique_words.extend(filtered_sentence2)\n",
        "\n",
        "  unique_words = list(set(unique_words)) # use set to ensure only one case of each word\n",
        "\n",
        "  # Get frequency information\n",
        "  frequency_1 = dict()\n",
        "  frequency_2 = dict()\n",
        "\n",
        "  for word in filtered_sentence1:\n",
        "    frequency_1[word]  = frequency_1.get(word, 0) +1;\n",
        "\n",
        "  for word in filtered_sentence2:\n",
        "    frequency_2[word]  = frequency_2.get(word, 0) +1;\n",
        "\n",
        "  # Create vectors\n",
        "  size_unique_words = len(unique_words)\n",
        "  vector_sentence1 = [0 for i in unique_words]\n",
        "  vector_sentence2 = [0 for i in unique_words]\n",
        "\n",
        "  # Assigning frequencies to vectors\n",
        "  for word,frequency in frequency_1.items():\n",
        "    vector_sentence1[unique_words.index(word)] = frequency\n",
        "\n",
        "  for word,frequency in frequency_2.items():\n",
        "    vector_sentence2[unique_words.index(word)] =frequency\n",
        "  # Calculate similarity between vectors\n",
        "  return 1-cosine_distance(vector_sentence1, vector_sentence2)"
      ],
      "metadata": {
        "id": "DJOGpb5q7S3f"
      },
      "execution_count": null,
      "outputs": []
    },
    {
      "cell_type": "code",
      "source": [
        "def construct_similarity_matrix(all_sentences, stopwords):\n",
        "  # Initialize matrix\n",
        "  matrix = [\n",
        "\n",
        "            [0 for i in range(len(all_sentences))]\n",
        "            for j in range(len(all_sentences))\n",
        "  ]\n",
        "  # Iterate over all sentences\n",
        "  for i in range(len(all_sentences)):\n",
        "    for j in range(len(all_sentences)):\n",
        "      # Calculate similarity score for each sentence pair\n",
        "      if(i != j):\n",
        "        matrix[i][j] = find_similarity(all_sentences[i], all_sentences[j], stopwords)\n",
        "      else:\n",
        "        # Skip same sentence pairs.\n",
        "        continue\n",
        "  return matrix"
      ],
      "metadata": {
        "id": "nOmxs0lQ7UlB"
      },
      "execution_count": null,
      "outputs": []
    },
    {
      "cell_type": "code",
      "source": [
        "def text_rank(similarity_matrix):\n",
        "    # Initialize scores\n",
        "    sentence_count = len(similarity_matrix)\n",
        "    scores = [ 1 for i in range(sentence_count)]\n",
        "    # Set damping factors\n",
        "    damping_factor = 0.85\n",
        "    epsilon = 1e-5\n",
        "\n",
        "    for x in range(100):\n",
        "        # Initialize prior scores\n",
        "        prior_scores = scores.copy()\n",
        "        for i in range(sentence_count):\n",
        "            # Calculate new score\n",
        "            new_score = (1 - damping_factor)\n",
        "\n",
        "            sum_of_products = 0\n",
        "            for j in range(sentence_count):\n",
        "                product = similarity_matrix[j][i] * prior_scores[j]\n",
        "                sum_of_products += product\n",
        "\n",
        "\n",
        "            new_score += (damping_factor * sum_of_products)\n",
        "\n",
        "            # Assign new score\n",
        "            scores[i] = new_score\n",
        "        # Check if the change a minute change.\n",
        "        if sum(abs(scores[i] - prior_scores[i]) for i in range(sentence_count)) < epsilon:\n",
        "            break\n",
        "\n",
        "    return scores"
      ],
      "metadata": {
        "id": "-R5u11c47WU3"
      },
      "execution_count": null,
      "outputs": []
    },
    {
      "cell_type": "code",
      "source": [
        "def extract_summary(text, top_n=5):\n",
        "\n",
        "    stop_words = set(stopwords.words('english'))\n",
        "\n",
        "    # Get the sentences from the original text\n",
        "    sentences = sent_tokenize(text)\n",
        "\n",
        "    # Get the similarity matrix from all sentences\n",
        "    sentence_similarity_matrix = construct_similarity_matrix(sentences, stop_words)\n",
        "\n",
        "    # Get the scores for each sentence\n",
        "    scores = text_rank(sentence_similarity_matrix)\n",
        "\n",
        "    # Put the sentences in decsending order based on the score\n",
        "    ranked_sentences = []\n",
        "    for i, s in enumerate(sentences):\n",
        "        ranked_sentences.append((scores[i], s))\n",
        "\n",
        "    ranked_sentences = sorted(ranked_sentences, reverse=True)\n",
        "\n",
        "    # Get the summary sentences and make a combine string.\n",
        "    summary = [sentence for score, sentence in ranked_sentences[:top_n]]\n",
        "    return \" \".join(summary)"
      ],
      "metadata": {
        "id": "osjToqrM7Xmw"
      },
      "execution_count": null,
      "outputs": []
    },
    {
      "cell_type": "markdown",
      "source": [
        "# Confimation Test summarizer works"
      ],
      "metadata": {
        "id": "BK2HhJ3t7jVU"
      }
    },
    {
      "cell_type": "code",
      "source": [
        "text = \"Patient John Doe, a 45-year-old male, presented with a persistent cough, fever, and shortness of breath. The doctor ordered a chest X-ray and blood tests to diagnose the underlying condition. The X-ray revealed signs of pneumonia, and the blood work showed elevated white blood cell count, indicating an infection. The patient was prescribed a course of Azithromycin, an antibiotic, to treat the bacterial pneumonia. Additionally, the doctor recommended taking Ibuprofen to alleviate the fever and body aches associated with the illness. Mr. Doe has a history of hypertension and is currently on Lisinopril to manage his high blood pressure. He also has Type 2 diabetes mellitus and takes Metformin regularly to control his blood sugar levels. During the follow-up visit, the physician noted that the patient's symptoms had improved, and the pneumonia was resolving. However, the doctor advised Mr. Doe to complete the entire course of antibiotics as prescribed to prevent a relapse. Furthermore, the doctor recommended a pulmonary function test to evaluate the patient's lung capacity and rule out any underlying chronic respiratory conditions, such as asthma or chronic obstructive pulmonary disease (COPD). In addition to the medical conditions, the patient reported experiencing occasional heartburn and gastric discomfort. The doctor suggested taking an over-the-counter antacid like Omeprazole to manage the symptoms of acid reflux. Overall, with proper treatment and medication management, the patient's condition is expected to improve, and the risk of complications should be minimized.\"\n",
        "text += text;\n",
        "print(len(word_tokenize(text)))\n",
        "summary = extract_summary(text, top_n=2)\n",
        "print(summary)"
      ],
      "metadata": {
        "colab": {
          "base_uri": "https://localhost:8080/"
        },
        "id": "qXtIgGnD7OF3",
        "outputId": "afbf48e3-5d56-425a-a076-8df83bb55211"
      },
      "execution_count": null,
      "outputs": [
        {
          "output_type": "stream",
          "name": "stdout",
          "text": [
            "544\n",
            "Overall, with proper treatment and medication management, the patient's condition is expected to improve, and the risk of complications should be minimized.Patient John Doe, a 45-year-old male, presented with a persistent cough, fever, and shortness of breath. Overall, with proper treatment and medication management, the patient's condition is expected to improve, and the risk of complications should be minimized.\n"
          ]
        }
      ]
    },
    {
      "cell_type": "markdown",
      "source": [
        "# Methods for testing"
      ],
      "metadata": {
        "id": "YW_NQQqMC2yp"
      }
    },
    {
      "cell_type": "code",
      "source": [
        "base_path = \"/content/drive/MyDrive/TestSummarizer\"\n",
        "\n",
        "\n",
        "def get_summary_and_original_text(base_path, filename):\n",
        "  # get orginal text\n",
        "  original_path = base_path+\"//business_text/\"+filename\n",
        "  summary_path = base_path+\"/business_summary/\"+filename\n",
        "\n",
        "  original_fhand = open(original_path, 'r')\n",
        "  summary_fhand = open(summary_path, 'r')\n",
        "\n",
        "  original_text = \"\";\n",
        "  summary_text = \"\";\n",
        "\n",
        "  for original_line in original_fhand.readlines():\n",
        "    original_text += original_line.strip()\n",
        "\n",
        "  for summary_line in summary_fhand.readlines():\n",
        "    summary_text += summary_line.strip()\n",
        "\n",
        "  original_fhand.close()\n",
        "  summary_fhand.close()\n",
        "\n",
        "  return (original_text, summary_text)"
      ],
      "metadata": {
        "id": "doXE8FrB_XcV"
      },
      "execution_count": null,
      "outputs": []
    },
    {
      "cell_type": "code",
      "source": [
        "# print(len(word_tokenize(original_text)))\n",
        "# print(len(word_tokenize(summary)) )"
      ],
      "metadata": {
        "id": "86ngiCkuEDZi"
      },
      "execution_count": null,
      "outputs": []
    },
    {
      "cell_type": "code",
      "source": [
        "def make_summary(original_text, max_word_count):\n",
        "  sentence_count = 1\n",
        "  test_summary = extract_summary(original_text, top_n=sentence_count)\n",
        "\n",
        "  while(len(word_tokenize(test_summary)) < max_word_count):\n",
        "    sentence_count += 1\n",
        "    test_summary = extract_summary(original_text, top_n=sentence_count)\n",
        "\n",
        "  return test_summary"
      ],
      "metadata": {
        "id": "e2lpHbMeQyRh"
      },
      "execution_count": null,
      "outputs": []
    },
    {
      "cell_type": "code",
      "source": [
        "def get_summary_similarity( original_text, summary_text):\n",
        "  created_summary = word_tokenize(make_summary(original_text, len(word_tokenize(summary_text))))\n",
        "  base_summary_words = word_tokenize(summary_text)\n",
        "  stop_words = set(stopwords.words('english'))\n",
        "  return  find_similarity(created_summary, base_summary_words,stop_words)\n",
        "\n"
      ],
      "metadata": {
        "id": "bTCBhk0hRnrR"
      },
      "execution_count": null,
      "outputs": []
    },
    {
      "cell_type": "code",
      "source": [
        "original_text, summary_text = get_summary_and_original_text(base_path, \"001.txt\")\n",
        "print(get_summary_similarity(original_text, summary_text))\n"
      ],
      "metadata": {
        "id": "HcbpLmPeCMfD",
        "colab": {
          "base_uri": "https://localhost:8080/"
        },
        "outputId": "52118c3e-b220-4414-f578-2ad7f4c321d6"
      },
      "execution_count": null,
      "outputs": [
        {
          "output_type": "stream",
          "name": "stdout",
          "text": [
            "0.6329511555912406\n"
          ]
        }
      ]
    },
    {
      "cell_type": "code",
      "source": [
        "# extract_summary( \"Patient John Doe, a 45-year-old male, presented with a persistent cough, fever, and shortness of breath. The doctor ordered a chest X-ray and blood tests to diagnose the underlying condition. The X-ray revealed signs of pneumonia, and the blood work showed elevated white blood cell count, indicating an infection. The patient was prescribed a course of Azithromycin, an antibiotic, to treat the bacterial pneumonia. Additionally, the doctor recommended taking Ibuprofen to alleviate the fever and body aches associated with the illness. Mr. Doe has a history of hypertension and is currently on Lisinopril to manage his high blood pressure. He also has Type 2 diabetes mellitus and takes Metformin regularly to control his blood sugar levels. During the follow-up visit, the physician noted that the patient's symptoms had improved, and the pneumonia was resolving. However, the doctor advised Mr. Doe to complete the entire course of antibiotics as prescribed to prevent a relapse. Furthermore, the doctor recommended a pulmonary function test to evaluate the patient's lung capacity and rule out any underlying chronic respiratory conditions, such as asthma or chronic obstructive pulmonary disease (COPD). In addition to the medical conditions, the patient reported experiencing occasional heartburn and gastric discomfort. The doctor suggested taking an over-the-counter antacid like Omeprazole to manage the symptoms of acid reflux. Overall, with proper treatment and medication management, the patient's condition is expected to improve, and the risk of complications should be minimized.\")\n",
        "# extract_summary(original_text, top_n=2)\n",
        "# print(make_summary(original_text, 50))"
      ],
      "metadata": {
        "id": "zOJ1dVwfDjVw"
      },
      "execution_count": null,
      "outputs": []
    },
    {
      "cell_type": "code",
      "source": [
        "import os, csv\n",
        "\n",
        "from tqdm import tqdm\n",
        "\n",
        "\n",
        "# Specify the folder path\n",
        "folder_path = \"/content/drive/MyDrive/TestSummarizer/business_summary\"\n",
        "# Get a list of all files in the folder\n",
        "files_in_folder = os.listdir(folder_path)\n",
        "\n",
        "# Print the names of all files in the folder\n",
        "count = 0\n",
        "sum_score = 0\n",
        "all_files =[[\"file_name\", \"score\"]]\n",
        "\n",
        "for file_name in tqdm(files_in_folder):\n",
        "    original_text, summary_text = get_summary_and_original_text(base_path, file_name)\n",
        "    score = get_summary_similarity(original_text, summary_text)\n",
        "    all_files.append([file_name, score])\n",
        "\n",
        "    count += 1\n",
        "    sum_score += score\n",
        "\n",
        "\n",
        "\n",
        "print(\"\\n\", (sum_score/count))\n"
      ],
      "metadata": {
        "id": "iptK_wObBQl5",
        "colab": {
          "base_uri": "https://localhost:8080/"
        },
        "outputId": "5b279cb8-5163-494b-8264-4e49a55a8d5f"
      },
      "execution_count": null,
      "outputs": [
        {
          "output_type": "stream",
          "name": "stderr",
          "text": [
            "100%|██████████| 510/510 [01:47<00:00,  4.76it/s]"
          ]
        },
        {
          "output_type": "stream",
          "name": "stdout",
          "text": [
            "\n",
            " 0.7351392667558622\n"
          ]
        },
        {
          "output_type": "stream",
          "name": "stderr",
          "text": [
            "\n"
          ]
        }
      ]
    },
    {
      "cell_type": "code",
      "source": [
        "csv_file = \"summary_scores.csv\"\n",
        "csv_fhand = open(csv_file, \"w\", newline=\"\")\n",
        "writer = csv.writer(csv_fhand)\n",
        "writer.writerows(all_files)\n",
        "csv_fhand.close()\n"
      ],
      "metadata": {
        "id": "uyOVp7djtETw"
      },
      "execution_count": null,
      "outputs": []
    }
  ]
}